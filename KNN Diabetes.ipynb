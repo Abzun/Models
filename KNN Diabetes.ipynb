{
 "cells": [
  {
   "cell_type": "code",
   "execution_count": 1,
   "id": "c2dcd974",
   "metadata": {},
   "outputs": [],
   "source": [
    "#imports\n",
    "import sklearn\n",
    "from sklearn.utils import shuffle\n",
    "from sklearn.neighbors import KNeighborsClassifier\n",
    "import pandas as pd\n",
    "import numpy as np\n",
    "from sklearn import linear_model, preprocessing\n",
    "from sklearn.preprocessing import StandardScaler\n",
    "import pickle\n",
    "from sklearn.metrics import confusion_matrix\n",
    "from sklearn.metrics import f1_score\n",
    "from sklearn.metrics import accuracy_score\n",
    "import seaborn as sns"
   ]
  },
  {
   "cell_type": "code",
   "execution_count": 2,
   "id": "5275b944",
   "metadata": {},
   "outputs": [],
   "source": [
    "data = pd.read_csv(r'C:\\Users\\Edwin\\Downloads\\diabetes.csv')"
   ]
  },
  {
   "cell_type": "code",
   "execution_count": 3,
   "id": "6c893d7e",
   "metadata": {},
   "outputs": [
    {
     "data": {
      "text/plain": [
       "Pregnancies                 False\n",
       "Glucose                     False\n",
       "BloodPressure               False\n",
       "SkinThickness               False\n",
       "Insulin                     False\n",
       "BMI                         False\n",
       "DiabetesPedigreeFunction    False\n",
       "Age                         False\n",
       "Outcome                     False\n",
       "dtype: bool"
      ]
     },
     "execution_count": 3,
     "metadata": {},
     "output_type": "execute_result"
    }
   ],
   "source": [
    "data.isnull().any()"
   ]
  },
  {
   "cell_type": "code",
   "execution_count": 4,
   "id": "b39fa994",
   "metadata": {},
   "outputs": [
    {
     "data": {
      "text/html": [
       "<div>\n",
       "<style scoped>\n",
       "    .dataframe tbody tr th:only-of-type {\n",
       "        vertical-align: middle;\n",
       "    }\n",
       "\n",
       "    .dataframe tbody tr th {\n",
       "        vertical-align: top;\n",
       "    }\n",
       "\n",
       "    .dataframe thead th {\n",
       "        text-align: right;\n",
       "    }\n",
       "</style>\n",
       "<table border=\"1\" class=\"dataframe\">\n",
       "  <thead>\n",
       "    <tr style=\"text-align: right;\">\n",
       "      <th></th>\n",
       "      <th>Pregnancies</th>\n",
       "      <th>Glucose</th>\n",
       "      <th>BloodPressure</th>\n",
       "      <th>SkinThickness</th>\n",
       "      <th>Insulin</th>\n",
       "      <th>BMI</th>\n",
       "      <th>DiabetesPedigreeFunction</th>\n",
       "      <th>Age</th>\n",
       "      <th>Outcome</th>\n",
       "    </tr>\n",
       "  </thead>\n",
       "  <tbody>\n",
       "    <tr>\n",
       "      <th>0</th>\n",
       "      <td>6</td>\n",
       "      <td>148</td>\n",
       "      <td>72</td>\n",
       "      <td>35</td>\n",
       "      <td>0</td>\n",
       "      <td>33.6</td>\n",
       "      <td>0.627</td>\n",
       "      <td>50</td>\n",
       "      <td>1</td>\n",
       "    </tr>\n",
       "    <tr>\n",
       "      <th>1</th>\n",
       "      <td>1</td>\n",
       "      <td>85</td>\n",
       "      <td>66</td>\n",
       "      <td>29</td>\n",
       "      <td>0</td>\n",
       "      <td>26.6</td>\n",
       "      <td>0.351</td>\n",
       "      <td>31</td>\n",
       "      <td>0</td>\n",
       "    </tr>\n",
       "    <tr>\n",
       "      <th>2</th>\n",
       "      <td>8</td>\n",
       "      <td>183</td>\n",
       "      <td>64</td>\n",
       "      <td>0</td>\n",
       "      <td>0</td>\n",
       "      <td>23.3</td>\n",
       "      <td>0.672</td>\n",
       "      <td>32</td>\n",
       "      <td>1</td>\n",
       "    </tr>\n",
       "    <tr>\n",
       "      <th>3</th>\n",
       "      <td>1</td>\n",
       "      <td>89</td>\n",
       "      <td>66</td>\n",
       "      <td>23</td>\n",
       "      <td>94</td>\n",
       "      <td>28.1</td>\n",
       "      <td>0.167</td>\n",
       "      <td>21</td>\n",
       "      <td>0</td>\n",
       "    </tr>\n",
       "    <tr>\n",
       "      <th>4</th>\n",
       "      <td>0</td>\n",
       "      <td>137</td>\n",
       "      <td>40</td>\n",
       "      <td>35</td>\n",
       "      <td>168</td>\n",
       "      <td>43.1</td>\n",
       "      <td>2.288</td>\n",
       "      <td>33</td>\n",
       "      <td>1</td>\n",
       "    </tr>\n",
       "  </tbody>\n",
       "</table>\n",
       "</div>"
      ],
      "text/plain": [
       "   Pregnancies  Glucose  BloodPressure  SkinThickness  Insulin   BMI  \\\n",
       "0            6      148             72             35        0  33.6   \n",
       "1            1       85             66             29        0  26.6   \n",
       "2            8      183             64              0        0  23.3   \n",
       "3            1       89             66             23       94  28.1   \n",
       "4            0      137             40             35      168  43.1   \n",
       "\n",
       "   DiabetesPedigreeFunction  Age  Outcome  \n",
       "0                     0.627   50        1  \n",
       "1                     0.351   31        0  \n",
       "2                     0.672   32        1  \n",
       "3                     0.167   21        0  \n",
       "4                     2.288   33        1  "
      ]
     },
     "execution_count": 4,
     "metadata": {},
     "output_type": "execute_result"
    }
   ],
   "source": [
    "data.head()"
   ]
  },
  {
   "cell_type": "code",
   "execution_count": 5,
   "id": "26b30f1b",
   "metadata": {},
   "outputs": [],
   "source": [
    "X = data.iloc[:,0:8] #feature\n",
    "y = data.iloc[:,8]   #target "
   ]
  },
  {
   "cell_type": "code",
   "execution_count": 6,
   "id": "2e5dce07",
   "metadata": {},
   "outputs": [],
   "source": [
    "x_train, x_test, y_train, y_test = sklearn.model_selection.train_test_split(X, y, test_size=0.3) #splitting"
   ]
  },
  {
   "cell_type": "code",
   "execution_count": 7,
   "id": "cd7830e5",
   "metadata": {},
   "outputs": [],
   "source": [
    "#standardizing \n",
    "sc=StandardScaler()\n",
    "x_train=sc.fit_transform(x_train)\n",
    "x_test=sc.transform(x_test)"
   ]
  },
  {
   "cell_type": "code",
   "execution_count": 8,
   "id": "2469a799",
   "metadata": {},
   "outputs": [],
   "source": [
    "classifier=KNeighborsClassifier(n_neighbors=15,p=2,metric='euclidean')\n",
    "model=classifier.fit(x_train,y_train)"
   ]
  },
  {
   "cell_type": "code",
   "execution_count": 9,
   "id": "f01fcb90",
   "metadata": {},
   "outputs": [
    {
     "data": {
      "text/plain": [
       "array([1, 1, 0, 0, 0, 0, 0, 0, 0, 1, 0, 0, 0, 1, 0, 0, 0, 1, 0, 0, 0, 0,\n",
       "       1, 1, 1, 0, 0, 0, 0, 0, 0, 0, 0, 0, 0, 0, 0, 0, 0, 0, 0, 0, 0, 0,\n",
       "       0, 0, 0, 0, 0, 0, 1, 1, 1, 0, 1, 1, 0, 0, 0, 0, 0, 0, 1, 0, 0, 0,\n",
       "       0, 0, 0, 0, 0, 1, 0, 0, 1, 0, 0, 1, 0, 0, 0, 0, 0, 0, 0, 0, 0, 0,\n",
       "       0, 1, 0, 1, 0, 1, 1, 0, 0, 0, 1, 0, 1, 0, 0, 0, 0, 1, 0, 0, 0, 0,\n",
       "       1, 0, 0, 0, 0, 0, 1, 1, 0, 0, 0, 0, 0, 0, 0, 0, 0, 1, 1, 0, 1, 0,\n",
       "       0, 0, 0, 0, 0, 1, 1, 1, 0, 0, 0, 0, 0, 0, 1, 0, 0, 0, 1, 0, 0, 0,\n",
       "       0, 0, 0, 0, 0, 0, 1, 0, 0, 0, 0, 0, 0, 1, 0, 1, 0, 0, 0, 1, 0, 1,\n",
       "       1, 1, 1, 1, 0, 0, 0, 0, 1, 0, 1, 1, 0, 0, 0, 0, 0, 0, 0, 0, 0, 1,\n",
       "       1, 0, 0, 1, 1, 0, 1, 1, 0, 0, 0, 1, 1, 0, 0, 0, 1, 1, 1, 1, 0, 0,\n",
       "       1, 0, 1, 0, 0, 0, 0, 0, 0, 1, 0], dtype=int64)"
      ]
     },
     "execution_count": 9,
     "metadata": {},
     "output_type": "execute_result"
    }
   ],
   "source": [
    "yp=classifier.predict(x_test)\n",
    "yp"
   ]
  },
  {
   "cell_type": "code",
   "execution_count": 11,
   "id": "3e55d4d8",
   "metadata": {},
   "outputs": [
    {
     "name": "stdout",
     "output_type": "stream",
     "text": [
      "[[134  21]\n",
      " [ 35  41]]\n"
     ]
    }
   ],
   "source": [
    "CM=confusion_matrix(y_test,yp)\n",
    "print(CM)"
   ]
  },
  {
   "cell_type": "code",
   "execution_count": 14,
   "id": "fdce2fe1",
   "metadata": {},
   "outputs": [
    {
     "data": {
      "text/plain": [
       "<AxesSubplot:>"
      ]
     },
     "execution_count": 14,
     "metadata": {},
     "output_type": "execute_result"
    },
    {
     "data": {
      "image/png": "[encoded data removed]",
      "text/plain": [
       "<Figure size 432x288 with 2 Axes>"
      ]
     },
     "metadata": {
      "needs_background": "light"
     },
     "output_type": "display_data"
    }
   ],
   "source": [
    "sns.heatmap(CM)"
   ]
  },
  {
   "cell_type": "code",
   "execution_count": 23,
   "id": "fc36f162",
   "metadata": {},
   "outputs": [
    {
     "name": "stdout",
     "output_type": "stream",
     "text": [
      "F-Score:  0.6086956521739131\n"
     ]
    }
   ],
   "source": [
    "print(\"F-Score: \",(f1_score(y_test,yp)))"
   ]
  },
  {
   "cell_type": "code",
   "execution_count": 24,
   "id": "13eb4617",
   "metadata": {},
   "outputs": [
    {
     "name": "stdout",
     "output_type": "stream",
     "text": [
      "Model Accuracy:  76.62337662337663 %\n"
     ]
    }
   ],
   "source": [
    "print(\"Model Accuracy: \",accuracy_score(y_test,yp)*100,\"%\")"
   ]
  },
  {
   "cell_type": "code",
   "execution_count": 15,
   "id": "28fc82db",
   "metadata": {
    "scrolled": true
   },
   "outputs": [
    {
     "name": "stdout",
     "output_type": "stream",
     "text": [
      "Model Accuracy:  75.32467532467533 %\n",
      "Model Accuracy:  72.72727272727273 %\n",
      "Model Accuracy:  72.07792207792207 %\n",
      "Model Accuracy:  78.57142857142857 %\n",
      "Model Accuracy:  74.67532467532467 %\n",
      "Model Accuracy:  68.83116883116884 %\n",
      "Model Accuracy:  73.37662337662337 %\n",
      "Model Accuracy:  74.67532467532467 %\n",
      "Model Accuracy:  68.18181818181817 %\n",
      "Model Accuracy:  75.32467532467533 %\n",
      "Model Accuracy:  78.57142857142857 %\n",
      "Model Accuracy:  72.72727272727273 %\n",
      "Model Accuracy:  75.97402597402598 %\n",
      "Model Accuracy:  73.37662337662337 %\n",
      "Model Accuracy:  75.97402597402598 %\n",
      "Model Accuracy:  77.27272727272727 %\n",
      "Model Accuracy:  75.97402597402598 %\n",
      "Model Accuracy:  70.77922077922078 %\n",
      "Model Accuracy:  74.67532467532467 %\n",
      "Model Accuracy:  75.32467532467533 %\n",
      "Model Accuracy:  68.18181818181817 %\n",
      "Model Accuracy:  74.67532467532467 %\n",
      "Model Accuracy:  74.67532467532467 %\n",
      "Model Accuracy:  76.62337662337663 %\n",
      "Model Accuracy:  75.97402597402598 %\n",
      "Model Accuracy:  74.67532467532467 %\n",
      "Model Accuracy:  72.72727272727273 %\n",
      "Model Accuracy:  75.97402597402598 %\n",
      "Model Accuracy:  71.42857142857143 %\n",
      "Model Accuracy:  73.37662337662337 %\n",
      "Model Accuracy:  73.37662337662337 %\n",
      "Model Accuracy:  80.51948051948052 %\n",
      "Model Accuracy:  81.81818181818183 %\n",
      "Model Accuracy:  75.97402597402598 %\n",
      "Model Accuracy:  69.48051948051948 %\n",
      "Model Accuracy:  70.12987012987013 %\n",
      "Model Accuracy:  74.67532467532467 %\n",
      "Model Accuracy:  76.62337662337663 %\n",
      "Model Accuracy:  74.02597402597402 %\n",
      "Model Accuracy:  74.67532467532467 %\n",
      "Model Accuracy:  71.42857142857143 %\n",
      "Model Accuracy:  82.46753246753246 %\n",
      "Model Accuracy:  72.72727272727273 %\n",
      "Model Accuracy:  79.22077922077922 %\n",
      "Model Accuracy:  70.12987012987013 %\n",
      "Model Accuracy:  74.02597402597402 %\n",
      "Model Accuracy:  72.72727272727273 %\n",
      "Model Accuracy:  82.46753246753246 %\n",
      "Model Accuracy:  75.97402597402598 %\n",
      "Model Accuracy:  71.42857142857143 %\n"
     ]
    }
   ],
   "source": [
    "# trying to find best model, with highest accuracy\n",
    "best = 0\n",
    "for _ in range(50):\n",
    "    x_train, x_test, y_train, y_test = sklearn.model_selection.train_test_split(X, y, test_size=0.2)\n",
    "    \n",
    "    sc=StandardScaler()\n",
    "    x_train=sc.fit_transform(x_train)\n",
    "    x_test=sc.transform(x_test)\n",
    "    \n",
    "    classifier=KNeighborsClassifier(n_neighbors=15,p=2,metric='euclidean')\n",
    "    \n",
    "    model=classifier.fit(x_train,y_train)\n",
    "    yp=classifier.predict(x_test)\n",
    "    \n",
    "    acc = accuracy_score(y_test,yp)*100\n",
    "    print(\"Model Accuracy: \",acc ,\"%\")\n",
    "\n",
    "    if acc > best:\n",
    "        best = acc\n",
    "        with open(\"KNNDiabetes.pickle\", \"wb\") as f: # saving best model\n",
    "            pickle.dump(classifier, f)"
   ]
  },
  {
   "cell_type": "code",
   "execution_count": 16,
   "id": "f744790f",
   "metadata": {},
   "outputs": [
    {
     "data": {
      "text/plain": [
       "82.46753246753246"
      ]
     },
     "execution_count": 16,
     "metadata": {},
     "output_type": "execute_result"
    }
   ],
   "source": [
    "best # accuracy of the model that saved\n"
   ]
  },
  {
   "cell_type": "code",
   "execution_count": 17,
   "id": "b6eb9641",
   "metadata": {
    "scrolled": true
   },
   "outputs": [
    {
     "data": {
      "text/plain": [
       "array([0, 0, 0, 0, 0, 0, 1, 0, 0, 0, 1, 1, 0, 0, 0, 0, 0, 0, 1, 0, 0, 1,\n",
       "       0, 1, 1, 0, 0, 0, 0, 0, 0, 0, 0, 0, 1, 0, 0, 0, 0, 0, 0, 0, 0, 0,\n",
       "       0, 0, 0, 0, 1, 0, 0, 0, 0, 1, 1, 1, 0, 1, 0, 0, 0, 0, 0, 0, 1, 0,\n",
       "       0, 0, 0, 1, 0, 0, 0, 0, 0, 0, 0, 1, 0, 1, 0, 1, 0, 0, 1, 0, 0, 1,\n",
       "       1, 0, 0, 0, 0, 1, 0, 1, 0, 0, 0, 1, 0, 1, 0, 0, 0, 0, 0, 0, 0, 0,\n",
       "       1, 1, 0, 0, 0, 0, 1, 0, 0, 0, 0, 0, 0, 0, 1, 0, 0, 0, 0, 0, 0, 1,\n",
       "       0, 1, 0, 0, 1, 0, 0, 0, 1, 0, 0, 1, 0, 0, 1, 0, 1, 1, 1, 0, 1, 0],\n",
       "      dtype=int64)"
      ]
     },
     "execution_count": 17,
     "metadata": {},
     "output_type": "execute_result"
    }
   ],
   "source": [
    "pickle_in = open(\"KNNDiabetes.pickle\", \"rb\")\n",
    "classifier = pickle.load(pickle_in)\n",
    "\n",
    "\n",
    "predicted= classifier.predict(x_test)\n",
    "predicted\n",
    "# for x in range(len(predicted)):\n",
    "#     print(predicted[x], x_test[x], list(y_test[x]))"
   ]
  },
  {
   "cell_type": "code",
   "execution_count": 18,
   "id": "5603d44a",
   "metadata": {},
   "outputs": [],
   "source": [
    "CM=confusion_matrix(y_test,predicted) # "
   ]
  },
  {
   "cell_type": "code",
   "execution_count": 19,
   "id": "3168db40",
   "metadata": {},
   "outputs": [
    {
     "data": {
      "text/plain": [
       "array([[89, 11],\n",
       "       [26, 28]], dtype=int64)"
      ]
     },
     "execution_count": 19,
     "metadata": {},
     "output_type": "execute_result"
    }
   ],
   "source": [
    "CM"
   ]
  },
  {
   "cell_type": "code",
   "execution_count": 20,
   "id": "eb830e74",
   "metadata": {},
   "outputs": [
    {
     "data": {
      "text/plain": [
       "0.7597402597402597"
      ]
     },
     "execution_count": 20,
     "metadata": {},
     "output_type": "execute_result"
    }
   ],
   "source": [
    "accuracy_score(y_test, predicted)"
   ]
  },
  {
   "cell_type": "code",
   "execution_count": 21,
   "id": "406a9f6d",
   "metadata": {},
   "outputs": [
    {
     "data": {
      "text/plain": [
       "0.5185185185185185"
      ]
     },
     "execution_count": 21,
     "metadata": {},
     "output_type": "execute_result"
    }
   ],
   "source": [
    "from sklearn.metrics import recall_score\n",
    "recall_score(y_test, predicted, average='binary')"
   ]
  },
  {
   "cell_type": "code",
   "execution_count": 23,
   "id": "d07d910a",
   "metadata": {},
   "outputs": [],
   "source": [
    "arr = np.array([0.03694305,  0.7814604 ,  0.80400224,  0.38442643,  0.17222545,\n",
    "        -0.42651342, -0.86224809, -0.54508102], ndmin = 2) # a test arr should be 0 "
   ]
  },
  {
   "cell_type": "code",
   "execution_count": 24,
   "id": "63cf75c4",
   "metadata": {},
   "outputs": [],
   "source": [
    "predicted1 = classifier.predict(arr)"
   ]
  },
  {
   "cell_type": "code",
   "execution_count": 25,
   "id": "2a0ced21",
   "metadata": {},
   "outputs": [
    {
     "data": {
      "text/plain": [
       "0"
      ]
     },
     "execution_count": 25,
     "metadata": {},
     "output_type": "execute_result"
    }
   ],
   "source": [
    "predicted1[0]"
   ]
  },
  {
   "cell_type": "markdown",
   "id": "77e30979",
   "metadata": {},
   "source": [
    "### Conclusion\n",
    "\n",
    "Successfully saved a pickle model of KNN for diabetes, and reloaded it, and got correct values when testing."
   ]
  }
 ],
 "metadata": {
  "kernelspec": {
   "display_name": "Python 3 (ipykernel)",
   "language": "python",
   "name": "python3"
  },
  "language_info": {
   "codemirror_mode": {
    "name": "ipython",
    "version": 3
   },
   "file_extension": ".py",
   "mimetype": "text/x-python",
   "name": "python",
   "nbconvert_exporter": "python",
   "pygments_lexer": "ipython3",
   "version": "3.9.7"
  }
 },
 "nbformat": 4,
 "nbformat_minor": 5
}
